{
 "cells": [
  {
   "cell_type": "markdown",
   "metadata": {},
   "source": [
    "1. Write a program which will find all such numbers which are divisible by 7 but are not a multiple of 5, between 2000 and 3200 (both included). The numbers obtained should be printed in a comma-separated sequence on a single line. "
   ]
  },
  {
   "cell_type": "code",
   "execution_count": 1,
   "metadata": {},
   "outputs": [
    {
     "name": "stdout",
     "output_type": "stream",
     "text": [
      "Find Numbers Class is Instantiated\n",
      "Output : 2002,2009,2016,2023,2037,2044,2051,2058,2072,2079,2086,2093,2107,2114,2121,2128,2142,2149,2156,2163,2177,2184,2191,2198,2212,2219,2226,2233,2247,2254,2261,2268,2282,2289,2296,2303,2317,2324,2331,2338,2352,2359,2366,2373,2387,2394,2401,2408,2422,2429,2436,2443,2457,2464,2471,2478,2492,2499,2506,2513,2527,2534,2541,2548,2562,2569,2576,2583,2597,2604,2611,2618,2632,2639,2646,2653,2667,2674,2681,2688,2702,2709,2716,2723,2737,2744,2751,2758,2772,2779,2786,2793,2807,2814,2821,2828,2842,2849,2856,2863,2877,2884,2891,2898,2912,2919,2926,2933,2947,2954,2961,2968,2982,2989,2996,3003,3017,3024,3031,3038,3052,3059,3066,3073,3087,3094,3101,3108,3122,3129,3136,3143,3157,3164,3171,3178,3192,3199\n"
     ]
    }
   ],
   "source": [
    "class FindNumbers:\n",
    "    def __init__(self,startNum,endNum,multiplesOf,nonMultiplesOf):\n",
    "        self.startNum = startNum\n",
    "        self.endNum = endNum\n",
    "        self.multiplesOf = multiplesOf\n",
    "        self.nonMultiplesOf = nonMultiplesOf\n",
    "        print('Find Numbers Class is Instantiated')\n",
    "    \n",
    "    def getMultiplesOfNumber(self):\n",
    "        multiplesOfNumber = ','.join([str(i) for i in range(self.startNum,self.endNum) \n",
    "                                      if (i%self.multiplesOf == 0) & (i%self.nonMultiplesOf != 0)])\n",
    "        return multiplesOfNumber\n",
    "\n",
    "findNum_obj = FindNumbers(2000,3200,7,5)\n",
    "multiplesOfSeven = findNum_obj.getMultiplesOfNumber()\n",
    "print('Output : {0}'.format(multiplesOfSeven))"
   ]
  },
  {
   "cell_type": "markdown",
   "metadata": {},
   "source": [
    "2. Write a Python program to accept the user's first and last name and then getting them printed in the the reverse order with a space between first name and last name"
   ]
  },
  {
   "cell_type": "code",
   "execution_count": 2,
   "metadata": {},
   "outputs": [
    {
     "name": "stdout",
     "output_type": "stream",
     "text": [
      "Reverse Name Class is Instantiated\n",
      "Enter your First Name:Vignesh\n",
      "Enter your Last Name:Rajaganapathy\n",
      "Enter Full Name:Sathyadevi Rajaganapathy\n",
      "FirstName Reversed:hsengiV LastName Reversed:yhtapanagajaR\n",
      "Output1: hsengiV yhtapanagajaR\n",
      "FullName Output2: ivedayhtaS yhtapanagajaR\n"
     ]
    }
   ],
   "source": [
    "class ReverseName:\n",
    "    def __init__(self):\n",
    "        print('Reverse Name Class is Instantiated')\n",
    "    \n",
    "    def ReverseUserInputs(self):\n",
    "        firstName = input(\"Enter your First Name:\")\n",
    "        lastName = input(\"Enter your Last Name:\")\n",
    "        fullName = \" \".join([word[len(word)::-1] for word in input('Enter Full Name:').split()])\n",
    "        firstName = firstName[len(firstName)::-1]\n",
    "        lastName = lastName[len(lastName)::-1]\n",
    "        print('FirstName Reversed:{0} LastName Reversed:{1}'.format(firstName,lastName))\n",
    "        print('Output1: {0} {1}'.format(firstName,lastName))\n",
    "        print('FullName Output2: {0}'.format(fullName))                    \n",
    "        \n",
    "reversename_obj = ReverseName()\n",
    "reversename_obj.ReverseUserInputs()"
   ]
  },
  {
   "cell_type": "markdown",
   "metadata": {},
   "source": [
    "3.Write a Python program to find the volume of a sphere with diameter 12 cm.  \n",
    " \n",
    "Formula: V=4/3 * π * r 3 "
   ]
  },
  {
   "cell_type": "code",
   "execution_count": 3,
   "metadata": {},
   "outputs": [
    {
     "name": "stdout",
     "output_type": "stream",
     "text": [
      "Math Calculations Class is Instantiated\n",
      "Volume of a Sphere: 904.7786842338603\n"
     ]
    }
   ],
   "source": [
    "import math\n",
    "class MathCalculations:\n",
    "    def GetVolumeOfSphere(self,diameter):\n",
    "        radius = diameter/2\n",
    "        return (4/3)*(math.pi)*((radius)**3)\n",
    "    \n",
    "    def __init__(self):\n",
    "        print('Math Calculations Class is Instantiated')\n",
    "    \n",
    "math_obj = MathCalculations()\n",
    "print('Volume of a Sphere: {0}'.format(math_obj.GetVolumeOfSphere(12)))"
   ]
  },
  {
   "cell_type": "markdown",
   "metadata": {},
   "source": [
    "4.Write a program which accepts a sequence of comma-separated numbers from console and generate a list. "
   ]
  },
  {
   "cell_type": "code",
   "execution_count": 4,
   "metadata": {},
   "outputs": [
    {
     "name": "stdout",
     "output_type": "stream",
     "text": [
      "Input Converters Class is Instantiated\n",
      "Enter a sequence of comma-separated numbers5\n",
      "Output Type:<class 'list'>\n",
      "Output: ['5']\n"
     ]
    }
   ],
   "source": [
    "class InputConverters:\n",
    "    def __init__(self):\n",
    "        print('Input Converters Class is Instantiated')\n",
    "        \n",
    "    def ConvertInputStringToList(self):\n",
    "        userInputString = input('Enter a sequence of comma-separated numbers')\n",
    "        userInputStringList = userInputString.split(',')\n",
    "        return userInputStringList\n",
    "    \n",
    "inputconverter_obj = InputConverters()\n",
    "strList = inputconverter_obj.ConvertInputStringToList()\n",
    "print('Output Type:{0}'.format(type(strList)))\n",
    "print('Output: {0}'.format(strList))"
   ]
  },
  {
   "cell_type": "raw",
   "metadata": {},
   "source": [
    "5. Create the below pattern using nested for loop in Python. \n",
    " \n",
    " \n",
    "*  \n",
    "* *  \n",
    "* * * \n",
    "* * * *  \n",
    "* * * * *  \n",
    "* * * *  \n",
    "* * *  \n",
    "* *  \n",
    "* \n",
    " \n",
    " "
   ]
  },
  {
   "cell_type": "code",
   "execution_count": 5,
   "metadata": {},
   "outputs": [
    {
     "name": "stdout",
     "output_type": "stream",
     "text": [
      "Patterns Class is Instantiated\n",
      "Enter maximum Star Values Needed:5\n",
      "*\n",
      "**\n",
      "***\n",
      "****\n",
      "*****\n",
      "****\n",
      "***\n",
      "**\n",
      "*\n"
     ]
    }
   ],
   "source": [
    "class Patters:\n",
    "    def __init__(self):\n",
    "        print('Patterns Class is Instantiated')\n",
    "        \n",
    "    def DrawPattern(self):\n",
    "        maxStars = int(input('Enter maximum Star Values Needed:'))\n",
    "        for i in range(0,maxStars):\n",
    "            for j in range(0,i+1):\n",
    "                print('*',end='')\n",
    "            print('\\r')\n",
    "        reverseStars = maxStars-1\n",
    "        for k in range(reverseStars,0,-1):\n",
    "            for l in range(k,0,-1):\n",
    "                print('*',end='')\n",
    "            print('\\r')\n",
    "\n",
    "pattern_obj = Patters()\n",
    "pattern_obj.DrawPattern()"
   ]
  },
  {
   "cell_type": "markdown",
   "metadata": {},
   "source": [
    "6. Write a Python program to reverse a word after accepting the input from the user. \n",
    " \n",
    "Sample Output: \n",
    " \n",
    "Input word: iNeuron \n",
    " \n",
    "Output: norueNi"
   ]
  },
  {
   "cell_type": "code",
   "execution_count": 6,
   "metadata": {},
   "outputs": [
    {
     "name": "stdout",
     "output_type": "stream",
     "text": [
      "Reverse Inputs Class is Instantiated\n",
      "Enter the String Value to be reverse:iNeuron\n",
      "Output : norueNi\n"
     ]
    }
   ],
   "source": [
    "class ReverseInputs:\n",
    "    def __init__(self):\n",
    "        print('Reverse Inputs Class is Instantiated')\n",
    "        \n",
    "    def convertInput(self,userInput):\n",
    "        return userInput[len(userInput)::-1]\n",
    "reverse_obj = ReverseInputs()\n",
    "inputVal = input('Enter the String Value to be reverse:')\n",
    "print('Output : {0}'.format(reverse_obj.convertInput(inputVal)))"
   ]
  },
  {
   "cell_type": "markdown",
   "metadata": {},
   "source": [
    "7. Write a Python Program to print the given string in the format specified in the ​sample output. \n",
    " WE, THE PEOPLE OF INDIA, having solemnly resolved to constitute India into a SOVEREIGN, SOCIALIST, SECULAR, DEMOCRATIC REPUBLIC and to secure to all its citizens \n",
    " \n",
    "Sample Output: \n",
    " \n",
    "WE, THE PEOPLE OF INDIA,   having solemnly resolved to constitute India into a SOVEREIGN, !  SOCIALIST, SECULAR, DEMOCRATIC REPUBLIC    and to secure to all its citizens "
   ]
  },
  {
   "cell_type": "code",
   "execution_count": 7,
   "metadata": {},
   "outputs": [
    {
     "name": "stdout",
     "output_type": "stream",
     "text": [
      "Replace Inputs Class is Instantiated\n",
      "Output : WE, THE PEOPLE OF INDIA, having solemnly resolved to constitute India into a SOVEREIGN, !  SOCIALIST, SECULAR, DEMOCRATIC REPUBLIC and to secure to all its citizens\n"
     ]
    }
   ],
   "source": [
    "class ReplaceInputs:\n",
    "    def __init__(self):\n",
    "        print('Replace Inputs Class is Instantiated')\n",
    "        \n",
    "    def replaceInput(self,stringval):\n",
    "        return stringval.replace('SOCIALIST','!  SOCIALIST')\n",
    "reverse_obj = ReplaceInputs()\n",
    "inputVal = 'WE, THE PEOPLE OF INDIA, having solemnly resolved to constitute India into a SOVEREIGN, SOCIALIST, SECULAR, DEMOCRATIC REPUBLIC and to secure to all its citizens'\n",
    "print('Output : {0}'.format(reverse_obj.replaceInput(inputVal)))"
   ]
  },
  {
   "cell_type": "markdown",
   "metadata": {},
   "source": [
    "Note : - NOTE:​ ​The​ ​solution​ ​shared​ ​through​ ​Github​ ​should​ ​contain​ ​the​ ​source code​ ​used​ ​ and​  ​the​ ​output"
   ]
  },
  {
   "cell_type": "code",
   "execution_count": null,
   "metadata": {},
   "outputs": [],
   "source": []
  }
 ],
 "metadata": {
  "kernelspec": {
   "display_name": "Python 3",
   "language": "python",
   "name": "python3"
  },
  "language_info": {
   "codemirror_mode": {
    "name": "ipython",
    "version": 3
   },
   "file_extension": ".py",
   "mimetype": "text/x-python",
   "name": "python",
   "nbconvert_exporter": "python",
   "pygments_lexer": "ipython3",
   "version": "3.7.4"
  }
 },
 "nbformat": 4,
 "nbformat_minor": 2
}
